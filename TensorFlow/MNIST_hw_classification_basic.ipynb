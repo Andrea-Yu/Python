{
 "cells": [
  {
   "cell_type": "markdown",
   "metadata": {},
   "source": [
    "# 获取MNIST数据集"
   ]
  },
  {
   "cell_type": "markdown",
   "metadata": {},
   "source": [
    "## 1. 导入"
   ]
  },
  {
   "cell_type": "code",
   "execution_count": 43,
   "metadata": {},
   "outputs": [
    {
     "name": "stdout",
     "output_type": "stream",
     "text": [
      "Extracting /Users/andreayu/Documents/data/MNIST/train-images-idx3-ubyte.gz\n",
      "Extracting /Users/andreayu/Documents/data/MNIST/train-labels-idx1-ubyte.gz\n",
      "Extracting /Users/andreayu/Documents/data/MNIST/t10k-images-idx3-ubyte.gz\n",
      "Extracting /Users/andreayu/Documents/data/MNIST/t10k-labels-idx1-ubyte.gz\n"
     ]
    }
   ],
   "source": [
    "from tensorflow.examples.tutorials.mnist import input_data\n",
    "mnist = input_data.read_data_sets('/Users/andreayu/Documents/data/MNIST', one_hot=True)"
   ]
  },
  {
   "cell_type": "code",
   "execution_count": 44,
   "metadata": {},
   "outputs": [],
   "source": [
    "import tensorflow as tf\n",
    "import matplotlib.pyplot as plt\n",
    "import numpy as np"
   ]
  },
  {
   "cell_type": "markdown",
   "metadata": {},
   "source": [
    "## 2. 查看基本信息"
   ]
  },
  {
   "cell_type": "code",
   "execution_count": 45,
   "metadata": {},
   "outputs": [
    {
     "name": "stdout",
     "output_type": "stream",
     "text": [
      "training_set shape: (55000, 784) labels shape: (55000, 10)\n"
     ]
    }
   ],
   "source": [
    "print('training_set shape:', mnist.train.images.shape, 'labels shape:', mnist.train.labels.shape)"
   ]
  },
  {
   "cell_type": "code",
   "execution_count": 46,
   "metadata": {},
   "outputs": [
    {
     "name": "stdout",
     "output_type": "stream",
     "text": [
      "num of training set: 55000 num of validation set: 5000 num of testing set: 10000\n"
     ]
    }
   ],
   "source": [
    "print('num of training set:', mnist.train.num_examples,\n",
    "      'num of validation set:', mnist.validation.num_examples,\n",
    "      'num of testing set:', mnist.test.num_examples)"
   ]
  },
  {
   "cell_type": "markdown",
   "metadata": {},
   "source": [
    "## 3. 可视化 image"
   ]
  },
  {
   "cell_type": "code",
   "execution_count": 47,
   "metadata": {},
   "outputs": [],
   "source": [
    "def plot_image(image):\n",
    "    plt.imshow(image.reshape(28,28), cmap='binary')\n",
    "    plt.show"
   ]
  },
  {
   "cell_type": "code",
   "execution_count": 48,
   "metadata": {},
   "outputs": [
    {
     "data": {
      "image/png": "[encoded data removed]",
      "text/plain": [
       "<Figure size 432x288 with 1 Axes>"
      ]
     },
     "metadata": {
      "needs_background": "light"
     },
     "output_type": "display_data"
    }
   ],
   "source": [
    "plot_image(mnist.train.images[0])"
   ]
  },
  {
   "cell_type": "markdown",
   "metadata": {},
   "source": [
    "# 模型构建"
   ]
  },
  {
   "cell_type": "markdown",
   "metadata": {},
   "source": [
    "## 1. basically"
   ]
  },
  {
   "cell_type": "code",
   "execution_count": 54,
   "metadata": {},
   "outputs": [],
   "source": [
    "# 定义占位符\n",
    "x = tf.placeholder(tf.float32, [None, 784], name='X')\n",
    "y = tf.placeholder(tf.float32, [None, 10], name='Y')\n",
    "\n",
    "# 定义模型变量\n",
    "W = tf.Variable(tf.random_normal([784, 10]), name='W')\n",
    "b = tf.Variable(tf.zeros([10]), name='b')\n",
    "\n",
    "# 定义前向计算\n",
    "forward = tf.matmul(x, W) + b\n",
    "# 结果分类\n",
    "pred = tf.nn.softmax(forward)\n",
    "\n",
    "# 设置超参数\n",
    "learning_rate = 0.03\n",
    "total_batch = 100\n",
    "train_epoch = 100\n",
    "display_step = 5\n",
    "batch_size = int(mnist.train.num_examples / total_batch)\n",
    "\n",
    "# 定义损失函数\n",
    "# 交叉熵\n",
    "loss_function = tf.reduce_mean(-tf.reduce_sum(y*tf.log(pred), reduction_indices=1))\n",
    "\n",
    "# 定义优化选择器\n",
    "# 梯度下降\n",
    "optimizer = tf.train.GradientDescentOptimizer(learning_rate).minimize(loss_function)"
   ]
  },
  {
   "cell_type": "markdown",
   "metadata": {},
   "source": [
    "## 2. 定义准确率"
   ]
  },
  {
   "cell_type": "code",
   "execution_count": 55,
   "metadata": {},
   "outputs": [],
   "source": [
    "# 检查匹配情况\n",
    "# 1是指针对的维度：0-列，1-行\n",
    "correct_prediction = tf.equal(tf.argmax(pred, 1), tf.argmax(y, 1))\n",
    "# 计算准确率\n",
    "# cast将bool转化为float\n",
    "accuracy = tf.reduce_mean(tf.cast(correct_prediction, tf.float32))"
   ]
  },
  {
   "cell_type": "markdown",
   "metadata": {},
   "source": [
    "## 3. 声明会话，初始化变量"
   ]
  },
  {
   "cell_type": "code",
   "execution_count": 56,
   "metadata": {},
   "outputs": [],
   "source": [
    "sess = tf.Session()\n",
    "\n",
    "init = tf.global_variables_initializer()\n",
    "sess.run(init)"
   ]
  },
  {
   "cell_type": "markdown",
   "metadata": {},
   "source": [
    "# 模型训练"
   ]
  },
  {
   "cell_type": "code",
   "execution_count": 57,
   "metadata": {},
   "outputs": [
    {
     "name": "stdout",
     "output_type": "stream",
     "text": [
      "Train Epoch: 00 Loss: 7.726243973 Accuracy: 0.1620\n",
      "Train Epoch: 05 Loss: 2.517644644 Accuracy: 0.5688\n",
      "Train Epoch: 10 Loss: 1.695061922 Accuracy: 0.6834\n",
      "Train Epoch: 15 Loss: 1.368843794 Accuracy: 0.7344\n",
      "Train Epoch: 20 Loss: 1.192585588 Accuracy: 0.7680\n",
      "Train Epoch: 25 Loss: 1.079588890 Accuracy: 0.7872\n",
      "Train Epoch: 30 Loss: 0.999248803 Accuracy: 0.8020\n",
      "Train Epoch: 35 Loss: 0.938993156 Accuracy: 0.8122\n",
      "Train Epoch: 40 Loss: 0.891772449 Accuracy: 0.8202\n",
      "Train Epoch: 45 Loss: 0.852519512 Accuracy: 0.8270\n",
      "Train Epoch: 50 Loss: 0.820110857 Accuracy: 0.8336\n",
      "Train Epoch: 55 Loss: 0.791782320 Accuracy: 0.8392\n",
      "Train Epoch: 60 Loss: 0.767461538 Accuracy: 0.8418\n",
      "Train Epoch: 65 Loss: 0.745853066 Accuracy: 0.8448\n",
      "Train Epoch: 70 Loss: 0.727112293 Accuracy: 0.8488\n",
      "Train Epoch: 75 Loss: 0.709560156 Accuracy: 0.8508\n",
      "Train Epoch: 80 Loss: 0.694199085 Accuracy: 0.8536\n",
      "Train Epoch: 85 Loss: 0.679972529 Accuracy: 0.8548\n",
      "Train Epoch: 90 Loss: 0.666966975 Accuracy: 0.8568\n",
      "Train Epoch: 95 Loss: 0.654909670 Accuracy: 0.8596\n",
      "Finished.\n"
     ]
    }
   ],
   "source": [
    "# 开始训练\n",
    "for epoch in range(train_epoch):\n",
    "    for batch in range(total_batch):\n",
    "        xs, ys = mnist.train.next_batch(batch_size) # 读取批次数据\n",
    "        sess.run(optimizer, feed_dict={x: xs, y: ys})\n",
    "        \n",
    "    # batch训练完成后使用验证数据集计算误差和准确率，验证集不分批\n",
    "    loss, acc = sess.run([loss_function, accuracy], \n",
    "                         feed_dict={x: mnist.validation.images, y: mnist.validation.labels})\n",
    "    \n",
    "    # 打印训练过程中的详细信息\n",
    "    if epoch % display_step == 0:\n",
    "        print('Train Epoch: %02d' % epoch, 'Loss:', '{:.9f}'.format(loss),\n",
    "             'Accuracy:', '{:.4f}'.format(acc))\n",
    "        \n",
    "print('Finished.')"
   ]
  },
  {
   "cell_type": "markdown",
   "metadata": {},
   "source": [
    "# 模型评估"
   ]
  },
  {
   "cell_type": "code",
   "execution_count": 58,
   "metadata": {},
   "outputs": [
    {
     "name": "stdout",
     "output_type": "stream",
     "text": [
      "Accuracy on validation: 0.8604\n",
      "Accuracy on test: 0.8603\n"
     ]
    }
   ],
   "source": [
    "acc_validation = sess.run(accuracy, feed_dict={x: mnist.validation.images, y: mnist.validation.labels})\n",
    "print('Accuracy on validation:', '{:.4f}'.format(acc_validation))\n",
    "acc_test = sess.run(accuracy, feed_dict={x: mnist.test.images, y: mnist.test.labels})\n",
    "print('Accuracy on test:', '{:.4f}'.format(acc_test))"
   ]
  },
  {
   "cell_type": "markdown",
   "metadata": {},
   "source": [
    "# 模型应用与可视化"
   ]
  },
  {
   "cell_type": "markdown",
   "metadata": {},
   "source": [
    "## 1. 查看预测结果"
   ]
  },
  {
   "cell_type": "code",
   "execution_count": 61,
   "metadata": {},
   "outputs": [
    {
     "name": "stdout",
     "output_type": "stream",
     "text": [
      "[7 2 1 0 4 1 4 9 6 9]\n"
     ]
    }
   ],
   "source": [
    "prediction_result = sess.run(tf.argmax(pred, 1), feed_dict={x: mnist.test.images})\n",
    "print(prediction_result[0:10])"
   ]
  },
  {
   "cell_type": "markdown",
   "metadata": {},
   "source": [
    "## 2. 定义可视化函数"
   ]
  },
  {
   "cell_type": "code",
   "execution_count": 62,
   "metadata": {},
   "outputs": [],
   "source": [
    "def plot_images_labels_prediction(images, # 图像列表\n",
    "                                  labels, # 标签列表\n",
    "                                  prediction, # 预测值列表\n",
    "                                  index, # 开始显示的角标\n",
    "                                  num=10): # 默认一次显示10个\n",
    "    fig = plt.gcf() # 获得当前列表, get current figure\n",
    "    fig.set_size_inches(10, 12)\n",
    "    if num > 25:\n",
    "        num = 25 # 最多显示25张\n",
    "    for i in range(num):\n",
    "        ax = plt.subplot(5, 5, i+1) # 当前子图位置\n",
    "        ax.imshow(np.reshape(images[index], (28, 28)), cmap='binary')\n",
    "        title = 'label=' + str(np.argmax(labels[index]))\n",
    "        \n",
    "        if len(prediction) > 0:\n",
    "            title += ',prediction=' + str(prediction[index])\n",
    "            \n",
    "        ax.set_title(title, fontsize=10)\n",
    "        ax.set_xticks([])\n",
    "        ax.set_yticks([])\n",
    "        index += 1\n",
    "    plt.show()"
   ]
  },
  {
   "cell_type": "code",
   "execution_count": 63,
   "metadata": {},
   "outputs": [
    {
     "data": {
      "image/png": "[encoded data removed]",
      "text/plain": [
       "<Figure size 720x864 with 10 Axes>"
      ]
     },
     "metadata": {},
     "output_type": "display_data"
    }
   ],
   "source": [
    "plot_images_labels_prediction(mnist.test.images, mnist.test.labels, prediction_result, 0, 10)"
   ]
  },
  {
   "cell_type": "code",
   "execution_count": 64,
   "metadata": {},
   "outputs": [],
   "source": [
    "sess.close()"
   ]
  }
 ],
 "metadata": {
  "kernelspec": {
   "display_name": "Python 3",
   "language": "python",
   "name": "python3"
  },
  "language_info": {
   "codemirror_mode": {
    "name": "ipython",
    "version": 3
   },
   "file_extension": ".py",
   "mimetype": "text/x-python",
   "name": "python",
   "nbconvert_exporter": "python",
   "pygments_lexer": "ipython3",
   "version": "3.7.6"
  }
 },
 "nbformat": 4,
 "nbformat_minor": 4
}
