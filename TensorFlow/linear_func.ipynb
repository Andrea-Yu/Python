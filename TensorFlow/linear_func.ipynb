{
 "cells": [
  {
   "cell_type": "markdown",
   "metadata": {},
   "source": [
    "# 线性回归问题TensorFlow实战"
   ]
  },
  {
   "cell_type": "markdown",
   "metadata": {},
   "source": [
    "## 核心步骤\n",
    "1. 准备数据\n",
    "2. 构建模型\n",
    "3. 训练模型\n",
    "4. 进行预测"
   ]
  },
  {
   "cell_type": "markdown",
   "metadata": {},
   "source": [
    "## 人工数据集成"
   ]
  },
  {
   "cell_type": "code",
   "execution_count": 1,
   "metadata": {},
   "outputs": [],
   "source": [
    "%matplotlib inline\n",
    "import matplotlib.pyplot as plt\n",
    "import numpy as np\n",
    "import tensorflow as tf\n",
    "\n",
    "# 设置随机数种子\n",
    "np.random.seed(5)"
   ]
  },
  {
   "cell_type": "code",
   "execution_count": 2,
   "metadata": {},
   "outputs": [],
   "source": [
    "# 生成[-1, 1]的等差数列\n",
    "x_data = np.linspace(-1, 1, 100)\n",
    "# 构造 y = 2x + 1 + noise，其中，噪声的维度与x_data一致\n",
    "y_data = 2*x_data + 1 + np.random.randn(*x_data.shape)*0.4"
   ]
  },
  {
   "cell_type": "markdown",
   "metadata": {},
   "source": [
    "\\* 把元组拆成多个实参 = np.random.randn(100)"
   ]
  },
  {
   "cell_type": "code",
   "execution_count": 3,
   "metadata": {},
   "outputs": [
    {
     "data": {
      "text/plain": [
       "[<matplotlib.lines.Line2D at 0x1405f2d10>]"
      ]
     },
     "execution_count": 3,
     "metadata": {},
     "output_type": "execute_result"
    },
    {
     "data": {
      "image/png": "[encoded data removed]",
      "text/plain": [
       "<Figure size 432x288 with 1 Axes>"
      ]
     },
     "metadata": {
      "needs_background": "light"
     },
     "output_type": "display_data"
    }
   ],
   "source": [
    "# 画出随机数生成的散点图\n",
    "plt.scatter(x_data, y_data)\n",
    "# 画出线性函数 y = 2x + 1\n",
    "plt.plot(x_data, 2*x_data + 1, color = 'red', linewidth = 3)"
   ]
  },
  {
   "cell_type": "markdown",
   "metadata": {},
   "source": [
    "## 构建模型\n",
    "### 1. 定义占位符和模型函数"
   ]
  },
  {
   "cell_type": "code",
   "execution_count": 4,
   "metadata": {},
   "outputs": [],
   "source": [
    "# 定义训练数据的占位符（输入），x是特征值，y是标签值\n",
    "x = tf.placeholder('float', name = 'x')\n",
    "y = tf.placeholder('float', name = 'y')\n",
    "\n",
    "# 定义模型函数\n",
    "def model(x, w, b):\n",
    "    return tf.multiply(x, w) + b"
   ]
  },
  {
   "cell_type": "markdown",
   "metadata": {},
   "source": [
    "### 2. 创建变量定义模型结构\n",
    "* 创建用：tf.Vriable，作用是保存和更新参数\n",
    "* 初始值可以是随机数、常数，或者其他变量的初始值计算得到"
   ]
  },
  {
   "cell_type": "code",
   "execution_count": 5,
   "metadata": {},
   "outputs": [],
   "source": [
    "# 构建斜率变量, w\n",
    "w = tf.Variable(1.0, name = 'w0')\n",
    "# 构建截距变量, b\n",
    "b = tf.Variable(0.0, name = 'b0')\n",
    "\n",
    "# 构建预测函数，前向计算\n",
    "pred = model(x, w, b)"
   ]
  },
  {
   "cell_type": "markdown",
   "metadata": {},
   "source": [
    "## 训练模型\n",
    "### 1. 设置训练参数"
   ]
  },
  {
   "cell_type": "code",
   "execution_count": 6,
   "metadata": {},
   "outputs": [],
   "source": [
    "# 迭代次数（训练轮数）\n",
    "train_epoch = 10\n",
    "# 学习率（步长）\n",
    "learning_rate = 0.05"
   ]
  },
  {
   "cell_type": "markdown",
   "metadata": {},
   "source": [
    "注：步长往往是一个经验值，一般在0.01到0.1之间"
   ]
  },
  {
   "cell_type": "markdown",
   "metadata": {},
   "source": [
    "### 2. 定义损失函数\n",
    "* 指导收敛方向\n",
    "* 常见有：均方差（Mean Square Error, MSE）和交叉墒（cross-entropy）"
   ]
  },
  {
   "cell_type": "code",
   "execution_count": 7,
   "metadata": {},
   "outputs": [],
   "source": [
    "# 采用均方差，L2作为损失函数\n",
    "loss_function = tf.reduce_mean(tf.square(y-pred))"
   ]
  },
  {
   "cell_type": "markdown",
   "metadata": {},
   "source": [
    "### 3. 定义优化器\n",
    "* 初始化一个GradientDescentOptimizer\n",
    "* 设置学习率和优化目标：最小化损失"
   ]
  },
  {
   "cell_type": "code",
   "execution_count": 8,
   "metadata": {},
   "outputs": [],
   "source": [
    "# 梯度下降优化器\n",
    "optimizer = tf.train.GradientDescentOptimizer(learning_rate).minimize(loss_function)"
   ]
  },
  {
   "cell_type": "markdown",
   "metadata": {},
   "source": [
    "### 4. 创建会话\n",
    "1. 声明会话\n",
    "2. 变量初始化"
   ]
  },
  {
   "cell_type": "code",
   "execution_count": 9,
   "metadata": {},
   "outputs": [],
   "source": [
    "# 声明会话\n",
    "sess = tf.Session()\n",
    "# 变量初始化\n",
    "init = tf.global_variables_initializer()\n",
    "\n",
    "sess.run(init)"
   ]
  },
  {
   "cell_type": "markdown",
   "metadata": {},
   "source": [
    "### 5. 迭代训练并显示损失值\n",
    "* 逐一输入，且在每一轮结束后绘制模型曲线"
   ]
  },
  {
   "cell_type": "code",
   "execution_count": 10,
   "metadata": {},
   "outputs": [
    {
     "name": "stdout",
     "output_type": "stream",
     "text": [
      "Train Epoch: 01 Step: 010 Loss:  0.007021904\n",
      "Train Epoch: 01 Step: 020 Loss:  0.186607897\n",
      "Train Epoch: 01 Step: 030 Loss:  0.024833022\n",
      "Train Epoch: 01 Step: 040 Loss:  0.620799541\n",
      "Train Epoch: 01 Step: 050 Loss:  0.006301077\n",
      "Train Epoch: 01 Step: 060 Loss:  0.023637433\n",
      "Train Epoch: 01 Step: 070 Loss:  0.354419798\n",
      "Train Epoch: 01 Step: 080 Loss:  0.027936857\n",
      "Train Epoch: 01 Step: 090 Loss:  0.029015331\n",
      "Train Epoch: 01 Step: 100 Loss:  0.106556907\n",
      "Train Epoch: 02 Step: 110 Loss:  0.179423183\n",
      "Train Epoch: 02 Step: 120 Loss:  0.067458346\n",
      "Train Epoch: 02 Step: 130 Loss:  0.000281519\n",
      "Train Epoch: 02 Step: 140 Loss:  0.344065875\n",
      "Train Epoch: 02 Step: 150 Loss:  0.021391280\n",
      "Train Epoch: 02 Step: 160 Loss:  0.006406436\n",
      "Train Epoch: 02 Step: 170 Loss:  0.142010629\n",
      "Train Epoch: 02 Step: 180 Loss:  0.000233675\n",
      "Train Epoch: 02 Step: 190 Loss:  0.094913408\n",
      "Train Epoch: 02 Step: 200 Loss:  0.052370854\n",
      "Train Epoch: 03 Step: 210 Loss:  0.044097763\n",
      "Train Epoch: 03 Step: 220 Loss:  0.082669340\n",
      "Train Epoch: 03 Step: 230 Loss:  0.000454877\n",
      "Train Epoch: 03 Step: 240 Loss:  0.327929199\n",
      "Train Epoch: 03 Step: 250 Loss:  0.026971471\n",
      "Train Epoch: 03 Step: 260 Loss:  0.009875795\n",
      "Train Epoch: 03 Step: 270 Loss:  0.128553197\n",
      "Train Epoch: 03 Step: 280 Loss:  0.000938686\n",
      "Train Epoch: 03 Step: 290 Loss:  0.102202758\n",
      "Train Epoch: 03 Step: 300 Loss:  0.048671149\n",
      "Train Epoch: 04 Step: 310 Loss:  0.036854628\n",
      "Train Epoch: 04 Step: 320 Loss:  0.084023297\n",
      "Train Epoch: 04 Step: 330 Loss:  0.000471393\n",
      "Train Epoch: 04 Step: 340 Loss:  0.326585472\n",
      "Train Epoch: 04 Step: 350 Loss:  0.027471786\n",
      "Train Epoch: 04 Step: 360 Loss:  0.010202700\n",
      "Train Epoch: 04 Step: 370 Loss:  0.127448648\n",
      "Train Epoch: 04 Step: 380 Loss:  0.001019721\n",
      "Train Epoch: 04 Step: 390 Loss:  0.102829941\n",
      "Train Epoch: 04 Step: 400 Loss:  0.048365295\n",
      "Train Epoch: 05 Step: 410 Loss:  0.036273275\n",
      "Train Epoch: 05 Step: 420 Loss:  0.084138028\n",
      "Train Epoch: 05 Step: 430 Loss:  0.000472802\n",
      "Train Epoch: 05 Step: 440 Loss:  0.326472342\n",
      "Train Epoch: 05 Step: 450 Loss:  0.027514204\n",
      "Train Epoch: 05 Step: 460 Loss:  0.010230534\n",
      "Train Epoch: 05 Step: 470 Loss:  0.127355635\n",
      "Train Epoch: 05 Step: 480 Loss:  0.001026707\n",
      "Train Epoch: 05 Step: 490 Loss:  0.102882855\n",
      "Train Epoch: 05 Step: 500 Loss:  0.048339501\n",
      "Train Epoch: 06 Step: 510 Loss:  0.036224432\n",
      "Train Epoch: 06 Step: 520 Loss:  0.084147744\n",
      "Train Epoch: 06 Step: 530 Loss:  0.000472908\n",
      "Train Epoch: 06 Step: 540 Loss:  0.326462865\n",
      "Train Epoch: 06 Step: 550 Loss:  0.027517686\n",
      "Train Epoch: 06 Step: 560 Loss:  0.010232801\n",
      "Train Epoch: 06 Step: 570 Loss:  0.127347812\n",
      "Train Epoch: 06 Step: 580 Loss:  0.001027287\n",
      "Train Epoch: 06 Step: 590 Loss:  0.102887444\n",
      "Train Epoch: 06 Step: 600 Loss:  0.048337404\n",
      "Train Epoch: 07 Step: 610 Loss:  0.036220346\n",
      "Train Epoch: 07 Step: 620 Loss:  0.084148541\n",
      "Train Epoch: 07 Step: 630 Loss:  0.000472921\n",
      "Train Epoch: 07 Step: 640 Loss:  0.326461911\n",
      "Train Epoch: 07 Step: 650 Loss:  0.027518081\n",
      "Train Epoch: 07 Step: 660 Loss:  0.010233018\n",
      "Train Epoch: 07 Step: 670 Loss:  0.127347127\n",
      "Train Epoch: 07 Step: 680 Loss:  0.001027349\n",
      "Train Epoch: 07 Step: 690 Loss:  0.102887906\n",
      "Train Epoch: 07 Step: 700 Loss:  0.048337195\n",
      "Train Epoch: 08 Step: 710 Loss:  0.036220029\n",
      "Train Epoch: 08 Step: 720 Loss:  0.084148541\n",
      "Train Epoch: 08 Step: 730 Loss:  0.000472929\n",
      "Train Epoch: 08 Step: 740 Loss:  0.326461911\n",
      "Train Epoch: 08 Step: 750 Loss:  0.027518081\n",
      "Train Epoch: 08 Step: 760 Loss:  0.010233042\n",
      "Train Epoch: 08 Step: 770 Loss:  0.127347127\n",
      "Train Epoch: 08 Step: 780 Loss:  0.001027349\n",
      "Train Epoch: 08 Step: 790 Loss:  0.102888055\n",
      "Train Epoch: 08 Step: 800 Loss:  0.048337195\n",
      "Train Epoch: 09 Step: 810 Loss:  0.036219940\n",
      "Train Epoch: 09 Step: 820 Loss:  0.084148541\n",
      "Train Epoch: 09 Step: 830 Loss:  0.000472929\n",
      "Train Epoch: 09 Step: 840 Loss:  0.326461911\n",
      "Train Epoch: 09 Step: 850 Loss:  0.027518081\n",
      "Train Epoch: 09 Step: 860 Loss:  0.010233042\n",
      "Train Epoch: 09 Step: 870 Loss:  0.127347127\n",
      "Train Epoch: 09 Step: 880 Loss:  0.001027349\n",
      "Train Epoch: 09 Step: 890 Loss:  0.102888055\n",
      "Train Epoch: 09 Step: 900 Loss:  0.048337195\n",
      "Train Epoch: 10 Step: 910 Loss:  0.036219940\n",
      "Train Epoch: 10 Step: 920 Loss:  0.084148541\n",
      "Train Epoch: 10 Step: 930 Loss:  0.000472929\n",
      "Train Epoch: 10 Step: 940 Loss:  0.326461911\n",
      "Train Epoch: 10 Step: 950 Loss:  0.027518081\n",
      "Train Epoch: 10 Step: 960 Loss:  0.010233042\n",
      "Train Epoch: 10 Step: 970 Loss:  0.127347127\n",
      "Train Epoch: 10 Step: 980 Loss:  0.001027349\n",
      "Train Epoch: 10 Step: 990 Loss:  0.102888055\n",
      "Train Epoch: 10 Step: 1000 Loss:  0.048337195\n"
     ]
    },
    {
     "data": {
      "image/png": "[encoded data removed]",
      "text/plain": [
       "<Figure size 432x288 with 1 Axes>"
      ]
     },
     "metadata": {
      "needs_background": "light"
     },
     "output_type": "display_data"
    }
   ],
   "source": [
    "# 开始训练，轮数为epoch，采用SGD随机梯队下降优化方法\n",
    "# 定义控制报告的粒度：display_step(非超参数，与模型训练无关，控制报告频率)\n",
    "step = 0 # 记录训练步数\n",
    "loss_list = [] # 保存loss值的列表\n",
    "display_step = 10 # 每n轮报告一次\n",
    "\n",
    "for epoch in range(train_epoch):\n",
    "    for xs, ys in zip(x_data, y_data):\n",
    "        # 打包填充数据\n",
    "        _, loss = sess.run([optimizer, loss_function], feed_dict = {x: xs, y: ys})\n",
    "        # 显示损失值 loss\n",
    "        loss_list.append(loss)\n",
    "        step = step + 1\n",
    "        if step % display_step == 0:\n",
    "            print('Train Epoch: %02d' % (epoch + 1), \"Step: %03d\" % (step), 'Loss: ', '{:.9f}'.format(loss))\n",
    "            \n",
    "    b0temp = b.eval(session = sess)\n",
    "    w0temp = w.eval(session = sess)\n",
    "    # 画图\n",
    "    plt.plot(x_data, w0temp*x_data + b0temp)"
   ]
  },
  {
   "cell_type": "markdown",
   "metadata": {},
   "source": [
    "注：\n",
    "* zip 组合打包，成为一个一维数组\n",
    "* 等效于：for x in zip(x_data, y_data): print(x)\n",
    "* 以下为展示示例"
   ]
  },
  {
   "cell_type": "code",
   "execution_count": 11,
   "metadata": {},
   "outputs": [
    {
     "name": "stdout",
     "output_type": "stream",
     "text": [
      "-1.0 -0.8235090052459835\n",
      "-0.9797979797979798 -1.0919440203535946\n",
      "-0.9595959595959596 0.053116555611192884\n",
      "-0.9393939393939394 -0.9796247306291097\n",
      "-0.9191919191919192 -0.7945399017525654\n",
      "-0.898989898989899 -0.1649873511551726\n",
      "-0.8787878787878788 -1.1212687195182545\n",
      "-0.8585858585858586 -0.9538263803438325\n",
      "-0.8383838383838383 -0.6017263864328625\n",
      "-0.8181818181818181 -0.76831161947538\n",
      "-0.797979797979798 -1.0730654409283185\n",
      "-0.7777777777777778 -0.6375061597905904\n",
      "-0.7575757575757576 -0.6586830939520124\n",
      "-0.7373737373737373 -0.23335883370367652\n",
      "-0.7171717171717171 -1.1002588461321121\n",
      "-0.696969696969697 -0.6740110090153746\n",
      "-0.6767676767676767 0.10702105025951475\n",
      "-0.6565656565656566 0.4298010897612117\n",
      "-0.6363636363636364 -0.877199095802619\n",
      "-0.6161616161616161 0.025615772033879103\n",
      "-0.5959595959595959 -0.5841623460066405\n",
      "-0.5757575757575757 -0.4942564134015874\n",
      "-0.5555555555555556 -0.4598627844133726\n",
      "-0.5353535353535352 -0.23971024237202823\n",
      "-0.5151515151515151 0.36827290046231453\n",
      "-0.4949494949494949 0.2950695184516373\n",
      "-0.4747474747474747 0.07416274779266657\n",
      "-0.4545454545454545 -0.054415260483675926\n",
      "-0.43434343434343425 0.13262866848677551\n",
      "-0.41414141414141414 0.12934499489420243\n",
      "-0.3939393939393939 0.5293425399060001\n",
      "-0.3737373737373737 -0.00010339939163361844\n",
      "-0.3535353535353535 0.2904513295349893\n",
      "-0.33333333333333326 0.29290628860963563\n",
      "-0.31313131313131304 0.35281411339663044\n",
      "-0.2929292929292928 0.5138284775673774\n",
      "-0.2727272727272727 0.533609490962454\n",
      "-0.2525252525252525 1.028888924646128\n",
      "-0.23232323232323226 0.5006032928424813\n",
      "-0.21212121212121204 1.2003704931371322\n",
      "-0.19191919191919182 0.49382040769496405\n",
      "-0.1717171717171716 0.46547308965437173\n",
      "-0.1515151515151515 0.7372649724708379\n",
      "-0.13131313131313127 0.8795491263134783\n",
      "-0.11111111111111105 0.8856227403564583\n",
      "-0.09090909090909083 1.3349671715370035\n",
      "-0.07070707070707061 1.3143230501159726\n",
      "-0.050505050505050386 1.0967660582383345\n",
      "-0.030303030303030276 0.8048594357393183\n",
      "-0.010101010101010055 0.9395522412751366\n",
      "0.010101010101010166 1.585561227370734\n",
      "0.030303030303030498 1.1491077097464608\n",
      "0.05050505050505061 0.576700847658203\n",
      "0.07070707070707072 0.865588048594869\n",
      "0.09090909090909105 0.9508128885256188\n",
      "0.11111111111111116 1.6831041303724923\n",
      "0.1313131313131315 1.2197606686966038\n",
      "0.1515151515151516 2.2070730125184115\n",
      "0.1717171717171717 1.6060821315385143\n",
      "0.19191919191919204 1.433761113970462\n",
      "0.21212121212121215 1.2499608566310283\n",
      "0.2323232323232325 1.853518188518134\n",
      "0.2525252525252526 1.4087660481448774\n",
      "0.27272727272727293 1.2158051640876977\n",
      "0.29292929292929304 1.8131116729509413\n",
      "0.31313131313131315 1.631365952945092\n",
      "0.3333333333333335 2.1422909569964848\n",
      "0.3535353535353536 1.6776333795711706\n",
      "0.3737373737373739 0.6035995608257254\n",
      "0.39393939393939403 2.10362534955078\n",
      "0.41414141414141437 1.0771864747039235\n",
      "0.4343434343434345 2.4841893268504838\n",
      "0.4545454545454546 2.6376368045245364\n",
      "0.4747474747474749 1.7786823951330224\n",
      "0.49494949494949503 1.524018225852832\n",
      "0.5151515151515154 1.4714734204357263\n",
      "0.5353535353535355 2.419768919207803\n",
      "0.5555555555555556 2.0302638400629234\n",
      "0.5757575757575759 1.912171178146298\n",
      "0.595959595959596 2.0945513114206906\n",
      "0.6161616161616164 3.067729107362319\n",
      "0.6363636363636365 2.4114950035623717\n",
      "0.6565656565656568 2.6114220931442955\n",
      "0.6767676767676769 2.664298389984558\n",
      "0.696969696969697 2.801307847214573\n",
      "0.7171717171717173 2.8588840098183868\n",
      "0.7373737373737375 2.1905608959490843\n",
      "0.7575757575757578 2.4290763941820592\n",
      "0.7777777777777779 2.2512514321172805\n",
      "0.7979797979797982 2.311494304637568\n",
      "0.8181818181818183 3.092966731337505\n",
      "0.8383838383838385 2.476065457889877\n",
      "0.8585858585858588 2.6855111726984604\n",
      "0.8787878787878789 2.480445220773429\n",
      "0.8989898989898992 2.5606186895625522\n",
      "0.9191919191919193 3.1536790157997103\n",
      "0.9393939393939394 2.700615882188437\n",
      "0.9595959595959598 2.726343844509032\n",
      "0.9797979797979799 3.157019023976532\n",
      "1.0 3.200194930998814\n"
     ]
    }
   ],
   "source": [
    "for xs, ys in zip(x_data, y_data):\n",
    "    print(xs, ys)"
   ]
  },
  {
   "cell_type": "markdown",
   "metadata": {},
   "source": [
    "## 结果查看\n",
    "### 1. 打印结果"
   ]
  },
  {
   "cell_type": "code",
   "execution_count": 12,
   "metadata": {},
   "outputs": [
    {
     "name": "stdout",
     "output_type": "stream",
     "text": [
      "w:  1.9822965\n",
      "b:  1.0420128\n"
     ]
    }
   ],
   "source": [
    "print('w: ', sess.run(w))\n",
    "print('b: ', sess.run(b))"
   ]
  },
  {
   "cell_type": "markdown",
   "metadata": {},
   "source": [
    "### 2. 结果可视化"
   ]
  },
  {
   "cell_type": "code",
   "execution_count": 13,
   "metadata": {},
   "outputs": [
    {
     "data": {
      "text/plain": [
       "<matplotlib.legend.Legend at 0x146969210>"
      ]
     },
     "execution_count": 13,
     "metadata": {},
     "output_type": "execute_result"
    },
    {
     "data": {
      "image/png": "[encoded data removed]",
      "text/plain": [
       "<Figure size 432x288 with 1 Axes>"
      ]
     },
     "metadata": {
      "needs_background": "light"
     },
     "output_type": "display_data"
    }
   ],
   "source": [
    "plt.scatter(x_data, y_data, label = 'Original Data')\n",
    "plt.plot(x_data, x_data*sess.run(w) + sess.run(b), label = 'Fitted Line', color = 'r', linewidth = 3)\n",
    "# 设置图例及其位置\n",
    "plt.legend(loc=2)"
   ]
  },
  {
   "cell_type": "markdown",
   "metadata": {},
   "source": [
    "### 3. 图形化显示损失值"
   ]
  },
  {
   "cell_type": "code",
   "execution_count": 14,
   "metadata": {},
   "outputs": [
    {
     "data": {
      "text/plain": [
       "[<matplotlib.lines.Line2D at 0x146a600d0>]"
      ]
     },
     "execution_count": 14,
     "metadata": {},
     "output_type": "execute_result"
    },
    {
     "data": {
      "image/png": "[encoded data removed]",
      "text/plain": [
       "<Figure size 432x288 with 1 Axes>"
      ]
     },
     "metadata": {
      "needs_background": "light"
     },
     "output_type": "display_data"
    }
   ],
   "source": [
    "plt.plot(loss_list)"
   ]
  },
  {
   "cell_type": "code",
   "execution_count": 15,
   "metadata": {
    "scrolled": true
   },
   "outputs": [
    {
     "data": {
      "text/plain": [
       "[<matplotlib.lines.Line2D at 0x146b24250>]"
      ]
     },
     "execution_count": 15,
     "metadata": {},
     "output_type": "execute_result"
    },
    {
     "data": {
      "image/png": "[encoded data removed]",
      "text/plain": [
       "<Figure size 432x288 with 1 Axes>"
      ]
     },
     "metadata": {
      "needs_background": "light"
     },
     "output_type": "display_data"
    }
   ],
   "source": [
    "plt.plot(loss_list, 'r+')"
   ]
  },
  {
   "cell_type": "markdown",
   "metadata": {},
   "source": [
    "## 利用模型进行预测"
   ]
  },
  {
   "cell_type": "code",
   "execution_count": 16,
   "metadata": {},
   "outputs": [
    {
     "name": "stdout",
     "output_type": "stream",
     "text": [
      "预测值：7.405184\n",
      "目标值：7.420000\n"
     ]
    }
   ],
   "source": [
    "x_test = 3.21\n",
    "\n",
    "predict = sess.run(pred, feed_dict = {x: x_test})\n",
    "print('预测值：%f' % predict)\n",
    "\n",
    "target = 2*x_test + 1.0\n",
    "print('目标值：%f' % target)"
   ]
  }
 ],
 "metadata": {
  "kernelspec": {
   "display_name": "Python 3",
   "language": "python",
   "name": "python3"
  },
  "language_info": {
   "codemirror_mode": {
    "name": "ipython",
    "version": 3
   },
   "file_extension": ".py",
   "mimetype": "text/x-python",
   "name": "python",
   "nbconvert_exporter": "python",
   "pygments_lexer": "ipython3",
   "version": "3.7.6"
  }
 },
 "nbformat": 4,
 "nbformat_minor": 4
}
