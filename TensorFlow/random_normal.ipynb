{
 "cells": [
  {
   "cell_type": "code",
   "execution_count": 1,
   "metadata": {},
   "outputs": [
    {
     "name": "stdout",
     "output_type": "stream",
     "text": [
      "[ 0.75029695 -1.3854272  -0.7808232  -0.42663914 -0.03344465 -0.04173322\n",
      "  0.01148106  0.62950385 -0.67036647 -0.20816095]\n"
     ]
    },
    {
     "data": {
      "image/png": "[encoded data removed]",
      "text/plain": [
       "<Figure size 432x288 with 1 Axes>"
      ]
     },
     "metadata": {
      "needs_background": "light"
     },
     "output_type": "display_data"
    }
   ],
   "source": [
    "import tensorflow as tf\n",
    "import matplotlib.pyplot as plt\n",
    "\n",
    "norm = tf.random_normal([100]) # 生成100个随机数\n",
    "\n",
    "with tf.Session() as sess:\n",
    "    norm_data = norm.eval()\n",
    "print(norm_data[:10])\n",
    "\n",
    "# 绘制直方图📊\n",
    "plt.hist(norm_data)\n",
    "plt.show()"
   ]
  },
  {
   "cell_type": "code",
   "execution_count": 2,
   "metadata": {},
   "outputs": [
    {
     "data": {
      "text/plain": [
       "<tf.Tensor 'random_normal:0' shape=(100,) dtype=float32>"
      ]
     },
     "execution_count": 2,
     "metadata": {},
     "output_type": "execute_result"
    }
   ],
   "source": [
    "norm"
   ]
  },
  {
   "cell_type": "code",
   "execution_count": 3,
   "metadata": {},
   "outputs": [
    {
     "data": {
      "text/plain": [
       "array([ 0.75029695, -1.3854272 , -0.7808232 , -0.42663914, -0.03344465,\n",
       "       -0.04173322,  0.01148106,  0.62950385, -0.67036647, -0.20816095,\n",
       "        3.8221946 ,  2.8768    ,  0.1675473 , -1.3710737 , -1.8060243 ,\n",
       "       -1.449487  ,  0.5632644 , -0.8701362 ,  0.29171586, -0.61298525,\n",
       "       -0.26699328, -1.0698773 ,  2.358424  , -0.69457555,  1.3656526 ,\n",
       "        1.713589  ,  0.13387203, -0.713129  , -1.0162649 ,  1.3597538 ,\n",
       "        0.5792097 ,  0.8778301 ,  0.2287095 , -0.09536559, -1.1228187 ,\n",
       "       -0.5118564 , -0.20285021, -1.0766126 ,  0.24679561,  1.4643738 ,\n",
       "       -1.8248069 , -1.5865417 , -0.6935681 ,  0.7498312 , -0.35462496,\n",
       "        0.18247719,  1.0322192 ,  0.38045603,  1.8964727 , -0.26677155,\n",
       "       -0.54968166,  0.9356156 , -0.5657331 , -0.19910058,  1.5344638 ,\n",
       "        0.4956968 , -0.7669748 ,  1.2940454 ,  0.6323887 , -0.07524611,\n",
       "        0.07185466, -0.22825958, -2.367595  , -0.69164336, -0.7745014 ,\n",
       "        0.15906405,  0.29065138, -0.5700962 ,  1.9952168 ,  0.7216034 ,\n",
       "       -0.14684097,  2.142064  ,  1.5816247 , -2.3378024 ,  0.73918533,\n",
       "       -0.17652905, -0.41212454,  0.4887808 ,  0.35329235, -0.686039  ,\n",
       "        0.48325753, -0.24467224,  0.27148938, -0.7260099 ,  0.5293511 ,\n",
       "       -0.89461815, -0.44578418, -0.16222998,  0.08761135,  1.7179853 ,\n",
       "       -1.7183778 ,  0.42948177, -0.23773287,  1.484712  ,  0.47331735,\n",
       "        0.9405271 , -0.27381504, -1.5374632 , -0.14164571, -1.2334663 ],\n",
       "      dtype=float32)"
      ]
     },
     "execution_count": 3,
     "metadata": {},
     "output_type": "execute_result"
    }
   ],
   "source": [
    "norm_data"
   ]
  },
  {
   "cell_type": "code",
   "execution_count": null,
   "metadata": {},
   "outputs": [],
   "source": []
  }
 ],
 "metadata": {
  "kernelspec": {
   "display_name": "Python 3",
   "language": "python",
   "name": "python3"
  },
  "language_info": {
   "codemirror_mode": {
    "name": "ipython",
    "version": 3
   },
   "file_extension": ".py",
   "mimetype": "text/x-python",
   "name": "python",
   "nbconvert_exporter": "python",
   "pygments_lexer": "ipython3",
   "version": "3.7.6"
  }
 },
 "nbformat": 4,
 "nbformat_minor": 4
}
