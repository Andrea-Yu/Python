{
 "cells": [
  {
   "cell_type": "code",
   "execution_count": 2,
   "metadata": {},
   "outputs": [
    {
     "name": "stdout",
     "output_type": "stream",
     "text": [
      "Extracting MNIST_data/train-images-idx3-ubyte.gz\n",
      "Extracting MNIST_data/train-labels-idx1-ubyte.gz\n",
      "Extracting MNIST_data/t10k-images-idx3-ubyte.gz\n",
      "Extracting MNIST_data/t10k-labels-idx1-ubyte.gz\n"
     ]
    }
   ],
   "source": [
    "import tensorflow as tf\n",
    "import matplotlib.pyplot as plt\n",
    "import numpy as np\n",
    "from tensorflow.examples.tutorials.mnist import input_data\n",
    "\n",
    "mnist = input_data.read_data_sets('MNIST_data/', one_hot=True)"
   ]
  },
  {
   "cell_type": "code",
   "execution_count": 3,
   "metadata": {},
   "outputs": [],
   "source": [
    "# 建构双隐层模型\n",
    "# 输入层\n",
    "x = tf.placeholder(tf.float32, [None, 784], name='X')"
   ]
  },
  {
   "cell_type": "code",
   "execution_count": 4,
   "metadata": {},
   "outputs": [
    {
     "data": {
      "text/plain": [
       "<tf.Tensor 'input:0' shape=() dtype=string>"
      ]
     },
     "execution_count": 4,
     "metadata": {},
     "output_type": "execute_result"
    }
   ],
   "source": [
    "# 输入预览\n",
    "image_shaped_input = tf.reshape(x, [-1, 28, 28, 1])\n",
    "# 最多显示10张图片\n",
    "tf.summary.image('input', image_shaped_input, 10)"
   ]
  },
  {
   "cell_type": "code",
   "execution_count": 5,
   "metadata": {},
   "outputs": [],
   "source": [
    "# 构建模型\n",
    "# 此为两层NN示例\n",
    "H1_NN = 256\n",
    "H2_NN = 64\n",
    "\n",
    "# 定义全连接层函数\n",
    "def fcn_layer(inputs,           # 数入数据\n",
    "              input_dim,        # 输入神经元数量\n",
    "              output_dim,       # 输出神经元数量\n",
    "              activation=None): # 激活函数\n",
    "    \n",
    "    # 以截断正态分布的随机函数初始化\n",
    "    W = tf.Variable(tf.truncated_normal([input_dim, output_dim], stddev=0.1))\n",
    "    # 以0初始化b\n",
    "    b = tf.Variable(tf.zeros([output_dim]))\n",
    "    \n",
    "    # 建立权重计算\n",
    "    XWb = tf.matmul(inputs, W) + b\n",
    "    \n",
    "    # 激活函数\n",
    "    if activation is None:\n",
    "        outputs = XWb\n",
    "    else:\n",
    "        outputs = activation(XWb)\n",
    "        \n",
    "    return outputs"
   ]
  },
  {
   "cell_type": "code",
   "execution_count": 6,
   "metadata": {},
   "outputs": [],
   "source": [
    "# 隐藏层1\n",
    "h1 = fcn_layer(x, 784, H1_NN, tf.nn.relu)\n",
    "# 隐藏层2\n",
    "h2 = fcn_layer(h1, H1_NN, H2_NN, tf.nn.relu)\n",
    "# 输出层\n",
    "forward = fcn_layer(h2, H2_NN, 10, None)\n",
    "pred = tf.nn.softmax(forward)"
   ]
  },
  {
   "cell_type": "code",
   "execution_count": 7,
   "metadata": {},
   "outputs": [
    {
     "data": {
      "text/plain": [
       "<tf.Tensor 'forward:0' shape=() dtype=string>"
      ]
     },
     "execution_count": 7,
     "metadata": {},
     "output_type": "execute_result"
    }
   ],
   "source": [
    "# 直方图查看forward\n",
    "tf.summary.histogram('forward', forward)"
   ]
  },
  {
   "cell_type": "code",
   "execution_count": 8,
   "metadata": {},
   "outputs": [],
   "source": [
    "y = tf.placeholder(tf.float32, [None, 10], name='Y')"
   ]
  },
  {
   "cell_type": "code",
   "execution_count": 10,
   "metadata": {},
   "outputs": [],
   "source": [
    "# 基础参数\n",
    "train_epoch = 40\n",
    "report_step = 1\n",
    "learning_step = 0.01\n",
    "batch_size = 50\n",
    "total_batch = int(mnist.train.num_examples/batch_size)"
   ]
  },
  {
   "cell_type": "code",
   "execution_count": 11,
   "metadata": {},
   "outputs": [],
   "source": [
    "# 定义损失函数\n",
    "loss_func = tf.reduce_mean(tf.nn.softmax_cross_entropy_with_logits(logits=forward, labels=y))\n",
    "\n",
    "# 定义优化选择器\n",
    "optimizer = tf.train.AdamOptimizer(learning_step).minimize(loss_func)"
   ]
  },
  {
   "cell_type": "code",
   "execution_count": 12,
   "metadata": {},
   "outputs": [
    {
     "data": {
      "text/plain": [
       "<tf.Tensor 'loss:0' shape=() dtype=string>"
      ]
     },
     "execution_count": 12,
     "metadata": {},
     "output_type": "execute_result"
    }
   ],
   "source": [
    "# TensorBoard\n",
    "# 标量显示准确率\n",
    "tf.summary.scalar('loss', loss_func)"
   ]
  },
  {
   "cell_type": "code",
   "execution_count": 13,
   "metadata": {},
   "outputs": [],
   "source": [
    "# 定义准确率\n",
    "correct_pred = tf.equal(tf.argmax(y, 1), tf.argmax(pred, 1))\n",
    "accuracy = tf.reduce_mean(tf.cast(correct_pred, tf.float32))"
   ]
  },
  {
   "cell_type": "code",
   "execution_count": 14,
   "metadata": {},
   "outputs": [
    {
     "data": {
      "text/plain": [
       "<tf.Tensor 'accuracy:0' shape=() dtype=string>"
      ]
     },
     "execution_count": 14,
     "metadata": {},
     "output_type": "execute_result"
    }
   ],
   "source": [
    "# TensorBoard\n",
    "# 标量显示准确率\n",
    "tf.summary.scalar('accuracy', accuracy)"
   ]
  },
  {
   "cell_type": "code",
   "execution_count": 15,
   "metadata": {},
   "outputs": [],
   "source": [
    "sess = tf.Session()\n",
    "init = tf.global_variables_initializer()\n",
    "sess.run(init)"
   ]
  },
  {
   "cell_type": "code",
   "execution_count": 16,
   "metadata": {},
   "outputs": [],
   "source": [
    "# 合并所有summary\n",
    "merged_summary_op = tf.summary.merge_all()\n",
    "# 创建写入符\n",
    "writer = tf.summary.FileWriter('log/', sess.graph)"
   ]
  },
  {
   "cell_type": "code",
   "execution_count": 17,
   "metadata": {},
   "outputs": [
    {
     "name": "stdout",
     "output_type": "stream",
     "text": [
      "Epoch: 01 Loss: 0.126681954 Accuracy: 0.9638\n",
      "Epoch: 02 Loss: 0.154044524 Accuracy: 0.9632\n",
      "Epoch: 03 Loss: 0.176267192 Accuracy: 0.9636\n",
      "Epoch: 04 Loss: 0.152023867 Accuracy: 0.9656\n",
      "Epoch: 05 Loss: 0.144861177 Accuracy: 0.9712\n",
      "Epoch: 06 Loss: 0.153188571 Accuracy: 0.9678\n",
      "Epoch: 07 Loss: 0.161168963 Accuracy: 0.9682\n",
      "Epoch: 08 Loss: 0.147775933 Accuracy: 0.9706\n",
      "Epoch: 09 Loss: 0.206385374 Accuracy: 0.9640\n",
      "Epoch: 10 Loss: 0.147989243 Accuracy: 0.9698\n",
      "Epoch: 11 Loss: 0.146855205 Accuracy: 0.9744\n",
      "Epoch: 12 Loss: 0.159313276 Accuracy: 0.9726\n",
      "Epoch: 13 Loss: 0.194928467 Accuracy: 0.9670\n",
      "Epoch: 14 Loss: 0.157807782 Accuracy: 0.9754\n",
      "Epoch: 15 Loss: 0.185740471 Accuracy: 0.9698\n",
      "Epoch: 16 Loss: 0.173885673 Accuracy: 0.9752\n",
      "Epoch: 17 Loss: 0.199122638 Accuracy: 0.9704\n",
      "Epoch: 18 Loss: 0.163601518 Accuracy: 0.9718\n",
      "Epoch: 19 Loss: 0.202405378 Accuracy: 0.9716\n",
      "Epoch: 20 Loss: 0.172507256 Accuracy: 0.9720\n",
      "Epoch: 21 Loss: 0.205950633 Accuracy: 0.9722\n",
      "Epoch: 22 Loss: 0.244425923 Accuracy: 0.9744\n",
      "Epoch: 23 Loss: 0.224492729 Accuracy: 0.9746\n",
      "Epoch: 24 Loss: 0.262674868 Accuracy: 0.9724\n",
      "Epoch: 25 Loss: 0.200422540 Accuracy: 0.9740\n",
      "Epoch: 26 Loss: 0.265314311 Accuracy: 0.9722\n",
      "Epoch: 27 Loss: 0.297844231 Accuracy: 0.9654\n",
      "Epoch: 28 Loss: 0.256325215 Accuracy: 0.9748\n",
      "Epoch: 29 Loss: 0.295631409 Accuracy: 0.9714\n",
      "Epoch: 30 Loss: 0.281713188 Accuracy: 0.9750\n",
      "Epoch: 31 Loss: 0.254139394 Accuracy: 0.9680\n",
      "Epoch: 32 Loss: 0.249739558 Accuracy: 0.9722\n",
      "Epoch: 33 Loss: 0.228851154 Accuracy: 0.9748\n",
      "Epoch: 34 Loss: 0.296117455 Accuracy: 0.9664\n",
      "Epoch: 35 Loss: 0.282088488 Accuracy: 0.9646\n",
      "Epoch: 36 Loss: 0.243168041 Accuracy: 0.9698\n",
      "Epoch: 37 Loss: 0.359338611 Accuracy: 0.9658\n",
      "Epoch: 38 Loss: 0.365304887 Accuracy: 0.9650\n",
      "Epoch: 39 Loss: 0.390587300 Accuracy: 0.9644\n",
      "Epoch: 40 Loss: 0.353686124 Accuracy: 0.9698\n",
      "Finished. Train takes 630.05 duration\n"
     ]
    }
   ],
   "source": [
    "# 训练模型\n",
    "from time import time\n",
    "startTime = time()\n",
    "\n",
    "for epoch in range(train_epoch):\n",
    "    for batch in range(total_batch):\n",
    "        xs, ys = mnist.train.next_batch(batch_size)\n",
    "        sess.run(optimizer, feed_dict={x: xs, y: ys})\n",
    "        \n",
    "        # 生成summary\n",
    "        summary_str = sess.run(merged_summary_op, feed_dict={x: xs, y: ys})\n",
    "        writer.add_summary(summary_str, epoch) # 写入文件\n",
    "    \n",
    "    loss, acc = sess.run([loss_func, accuracy], feed_dict={x: mnist.validation.images, y: mnist.validation.labels})\n",
    "    \n",
    "    if (epoch + 1) % report_step == 0:\n",
    "        print('Epoch: %02d' % (epoch+1), 'Loss: %.9f' % (loss), 'Accuracy: %.4f' % (acc))\n",
    "\n",
    "    \n",
    "# 显示运行时间\n",
    "duration = time() - startTime\n",
    "print('Finished. Train takes %.2f duration' % (duration))  "
   ]
  },
  {
   "cell_type": "code",
   "execution_count": 18,
   "metadata": {},
   "outputs": [],
   "source": [
    "sess.close()"
   ]
  }
 ],
 "metadata": {
  "kernelspec": {
   "display_name": "Python 3",
   "language": "python",
   "name": "python3"
  },
  "language_info": {
   "codemirror_mode": {
    "name": "ipython",
    "version": 3
   },
   "file_extension": ".py",
   "mimetype": "text/x-python",
   "name": "python",
   "nbconvert_exporter": "python",
   "pygments_lexer": "ipython3",
   "version": "3.7.6"
  }
 },
 "nbformat": 4,
 "nbformat_minor": 4
}
