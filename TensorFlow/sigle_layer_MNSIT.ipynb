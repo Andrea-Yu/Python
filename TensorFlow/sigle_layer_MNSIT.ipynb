{
 "cells": [
  {
   "cell_type": "markdown",
   "metadata": {},
   "source": [
    "# 导入参数"
   ]
  },
  {
   "cell_type": "code",
   "execution_count": 4,
   "metadata": {},
   "outputs": [
    {
     "name": "stdout",
     "output_type": "stream",
     "text": [
      "Extracting MNIST_data/train-images-idx3-ubyte.gz\n",
      "Extracting MNIST_data/train-labels-idx1-ubyte.gz\n",
      "Extracting MNIST_data/t10k-images-idx3-ubyte.gz\n",
      "Extracting MNIST_data/t10k-labels-idx1-ubyte.gz\n"
     ]
    }
   ],
   "source": [
    "import tensorflow as tf\n",
    "import matplotlib.pyplot as plt\n",
    "import numpy as np\n",
    "\n",
    "from tensorflow.examples.tutorials.mnist import input_data\n",
    "mnist = input_data.read_data_sets('MNIST_data/', one_hot=True)"
   ]
  },
  {
   "cell_type": "markdown",
   "metadata": {},
   "source": [
    "# 模型建构"
   ]
  },
  {
   "cell_type": "markdown",
   "metadata": {},
   "source": [
    "## 输入层"
   ]
  },
  {
   "cell_type": "code",
   "execution_count": 5,
   "metadata": {},
   "outputs": [],
   "source": [
    "x = tf.placeholder(tf.float32, [None, 784], name='X')\n",
    "y = tf.placeholder(tf.float32, [None, 10], name='Y')"
   ]
  },
  {
   "cell_type": "markdown",
   "metadata": {},
   "source": [
    "## 隐藏层"
   ]
  },
  {
   "cell_type": "code",
   "execution_count": 6,
   "metadata": {},
   "outputs": [],
   "source": [
    "# 隐藏层神经元数量\n",
    "H1_NN = 256\n",
    "\n",
    "with tf.name_scope('Hidden_Layer'):\n",
    "    W1 = tf.Variable(tf.random_normal([784, H1_NN]))\n",
    "    b1 = tf.Variable(tf.zeros([H1_NN]))\n",
    "    \n",
    "    Y1 = tf.nn.relu(tf.matmul(x, W1) + b1)"
   ]
  },
  {
   "cell_type": "markdown",
   "metadata": {},
   "source": [
    "## 输出层"
   ]
  },
  {
   "cell_type": "code",
   "execution_count": 8,
   "metadata": {},
   "outputs": [],
   "source": [
    "with tf.name_scope('Output_Layer'):\n",
    "    W2 = tf.Variable(tf.random_normal([H1_NN, 10]))\n",
    "    b2 = tf.Variable(tf.zeros([10]))\n",
    "    \n",
    "    forward = tf.matmul(Y1, W2) + b2\n",
    "    pred = tf.nn.softmax(forward)"
   ]
  },
  {
   "cell_type": "markdown",
   "metadata": {},
   "source": [
    "# 模型训练\n",
    "## 参数及损失函数、优化器的定义"
   ]
  },
  {
   "cell_type": "code",
   "execution_count": 10,
   "metadata": {},
   "outputs": [],
   "source": [
    "# 训练参数\n",
    "train_epochs = 40\n",
    "batch_size = 50\n",
    "total_batch = int(mnist.train.num_examples/batch_size)\n",
    "display_step = 1\n",
    "learning_rate = 0.01\n",
    "\n",
    "# 损失函数\n",
    "# 运用TensorFlow提供的结合Softmax的交叉熵损失函数\n",
    "# 避免因为log(0)值为NaN造成的数据不稳定\n",
    "loss_func = tf.reduce_mean(tf.nn.softmax_cross_entropy_with_logits(logits=forward, labels=y))\n",
    "\n",
    "# 选择优化器\n",
    "optimizer = tf.train.AdamOptimizer(learning_rate).minimize(loss_func)"
   ]
  },
  {
   "cell_type": "markdown",
   "metadata": {},
   "source": [
    "## 定义准确率"
   ]
  },
  {
   "cell_type": "code",
   "execution_count": 12,
   "metadata": {},
   "outputs": [],
   "source": [
    "correct_pred = tf.equal(tf.argmax(y, 1), tf.argmax(pred, 1))\n",
    "accuracy = tf.reduce_mean(tf.cast(correct_pred, tf.float32))"
   ]
  },
  {
   "cell_type": "markdown",
   "metadata": {},
   "source": [
    "## 训练模型"
   ]
  },
  {
   "cell_type": "code",
   "execution_count": 15,
   "metadata": {},
   "outputs": [
    {
     "name": "stdout",
     "output_type": "stream",
     "text": [
      "Train Epoch: 01 Loss: 1.169759631 Accuracy: 0.9334\n",
      "Train Epoch: 02 Loss: 0.721808016 Accuracy: 0.9442\n",
      "Train Epoch: 03 Loss: 0.583913028 Accuracy: 0.9500\n",
      "Train Epoch: 04 Loss: 0.455841362 Accuracy: 0.9504\n",
      "Train Epoch: 05 Loss: 0.408018410 Accuracy: 0.9494\n",
      "Train Epoch: 06 Loss: 0.402976066 Accuracy: 0.9546\n",
      "Train Epoch: 07 Loss: 0.411095887 Accuracy: 0.9488\n",
      "Train Epoch: 08 Loss: 0.412107706 Accuracy: 0.9532\n",
      "Train Epoch: 09 Loss: 0.375777334 Accuracy: 0.9624\n",
      "Train Epoch: 10 Loss: 0.347757310 Accuracy: 0.9606\n",
      "Train Epoch: 11 Loss: 0.357870251 Accuracy: 0.9654\n",
      "Train Epoch: 12 Loss: 0.388767958 Accuracy: 0.9632\n",
      "Train Epoch: 13 Loss: 0.473384947 Accuracy: 0.9652\n",
      "Train Epoch: 14 Loss: 0.430510193 Accuracy: 0.9640\n",
      "Train Epoch: 15 Loss: 0.436181456 Accuracy: 0.9676\n",
      "Train Epoch: 16 Loss: 0.433787107 Accuracy: 0.9666\n",
      "Train Epoch: 17 Loss: 0.558526158 Accuracy: 0.9690\n",
      "Train Epoch: 18 Loss: 0.524459422 Accuracy: 0.9672\n",
      "Train Epoch: 19 Loss: 0.541688263 Accuracy: 0.9666\n",
      "Train Epoch: 20 Loss: 0.434018940 Accuracy: 0.9708\n",
      "Train Epoch: 21 Loss: 0.529968083 Accuracy: 0.9672\n",
      "Train Epoch: 22 Loss: 0.576046765 Accuracy: 0.9652\n",
      "Train Epoch: 23 Loss: 0.623225749 Accuracy: 0.9720\n",
      "Train Epoch: 24 Loss: 0.621877134 Accuracy: 0.9730\n",
      "Train Epoch: 25 Loss: 0.571282148 Accuracy: 0.9724\n",
      "Train Epoch: 26 Loss: 0.577365696 Accuracy: 0.9742\n",
      "Train Epoch: 27 Loss: 0.672369421 Accuracy: 0.9696\n",
      "Train Epoch: 28 Loss: 0.712658703 Accuracy: 0.9690\n",
      "Train Epoch: 29 Loss: 0.715790153 Accuracy: 0.9706\n",
      "Train Epoch: 30 Loss: 0.677803099 Accuracy: 0.9712\n",
      "Train Epoch: 31 Loss: 0.724032402 Accuracy: 0.9704\n",
      "Train Epoch: 32 Loss: 0.773367286 Accuracy: 0.9754\n",
      "Train Epoch: 33 Loss: 0.932682157 Accuracy: 0.9720\n",
      "Train Epoch: 34 Loss: 0.779228687 Accuracy: 0.9740\n",
      "Train Epoch: 35 Loss: 0.870285869 Accuracy: 0.9732\n",
      "Train Epoch: 36 Loss: 0.898390889 Accuracy: 0.9742\n",
      "Train Epoch: 37 Loss: 0.848024607 Accuracy: 0.9746\n",
      "Train Epoch: 38 Loss: 0.915037692 Accuracy: 0.9742\n",
      "Train Epoch: 39 Loss: 0.957846761 Accuracy: 0.9742\n",
      "Train Epoch: 40 Loss: 1.020931602 Accuracy: 0.9734\n",
      "Finished. Train takes: 275.43\n"
     ]
    }
   ],
   "source": [
    "from time import time\n",
    "startTime = time()\n",
    "\n",
    "sess = tf.Session()\n",
    "init = tf.global_variables_initializer()\n",
    "sess.run(init)\n",
    "\n",
    "for epoch in range(train_epochs):\n",
    "    for batch in range(total_batch):\n",
    "        xs, ys = mnist.train.next_batch(batch_size)\n",
    "        sess.run(optimizer, feed_dict={x: xs, y: ys})\n",
    "        \n",
    "    loss, acc = sess.run([loss_func, accuracy], \n",
    "                         feed_dict={x: mnist.validation.images,\n",
    "                                    y: mnist.validation.labels})\n",
    "    \n",
    "    if (epoch + 1) % display_step == 0:\n",
    "        print('Train Epoch: %02d' % (epoch + 1),\n",
    "              'Loss:', '{:0.9f}'.format(loss),\n",
    "              'Accuracy:', '{:0.4f}'.format(acc))\n",
    "\n",
    "# 显示运行时间\n",
    "duration = time() - startTime\n",
    "print('Finished. Train takes:', '{:0.2f}'.format(duration))"
   ]
  },
  {
   "cell_type": "markdown",
   "metadata": {},
   "source": [
    "# 模型评估"
   ]
  },
  {
   "cell_type": "code",
   "execution_count": 17,
   "metadata": {},
   "outputs": [
    {
     "name": "stdout",
     "output_type": "stream",
     "text": [
      "Test Accuracy: 0.9695\n"
     ]
    }
   ],
   "source": [
    "acc_test = sess.run(accuracy,\n",
    "                    feed_dict={x: mnist.test.images,\n",
    "                               y: mnist.test.labels})\n",
    "print('Test Accuracy:', acc_test)"
   ]
  },
  {
   "cell_type": "markdown",
   "metadata": {},
   "source": [
    "# 模型应用\n",
    "## 预测"
   ]
  },
  {
   "cell_type": "code",
   "execution_count": 31,
   "metadata": {},
   "outputs": [],
   "source": [
    "prediction_result = sess.run(tf.argmax(pred, 1),\n",
    "                             feed_dict={x:mnist.test.images})"
   ]
  },
  {
   "cell_type": "markdown",
   "metadata": {},
   "source": [
    "## 找出错误预测项"
   ]
  },
  {
   "cell_type": "code",
   "execution_count": 32,
   "metadata": {},
   "outputs": [
    {
     "name": "stdout",
     "output_type": "stream",
     "text": [
      "[92, 121, 125, 199, 241, 247, 259, 321, 340, 359, 403, 404, 447, 456, 469, 495, 522, 582, 591, 659, 674, 684, 691, 707, 720, 726, 797, 839, 857, 877, 900, 924, 947, 951, 956, 965, 990, 1002, 1014, 1032, 1039, 1082, 1107, 1112, 1173, 1178, 1181, 1192, 1226, 1228, 1232, 1242, 1247, 1256, 1289, 1319, 1331, 1349, 1378, 1393, 1394, 1395, 1425, 1494, 1500, 1522, 1530, 1549, 1551, 1553, 1642, 1669, 1670, 1678, 1681, 1687, 1717, 1730, 1754, 1828, 1850, 1871, 1901, 1941, 1952, 2004, 2024, 2035, 2043, 2044, 2053, 2058, 2063, 2070, 2093, 2107, 2109, 2129, 2130, 2135, 2182, 2189, 2237, 2272, 2293, 2325, 2369, 2387, 2395, 2406, 2414, 2426, 2433, 2462, 2488, 2526, 2573, 2577, 2597, 2631, 2648, 2654, 2730, 2742, 2743, 2758, 2877, 2896, 2921, 2927, 2939, 2953, 2979, 3005, 3030, 3073, 3102, 3115, 3183, 3225, 3267, 3280, 3289, 3339, 3503, 3520, 3558, 3559, 3567, 3574, 3575, 3604, 3626, 3629, 3751, 3757, 3762, 3776, 3780, 3853, 3906, 3926, 3941, 3967, 3968, 3976, 3985, 4007, 4027, 4075, 4078, 4131, 4140, 4146, 4148, 4149, 4176, 4194, 4199, 4238, 4248, 4265, 4300, 4317, 4405, 4433, 4477, 4498, 4500, 4536, 4552, 4601, 4615, 4671, 4699, 4740, 4807, 4823, 4839, 4861, 4879, 4886, 4918, 4943, 4950, 4978, 5068, 5078, 5086, 5140, 5201, 5331, 5457, 5586, 5623, 5655, 5676, 5734, 5745, 5749, 5874, 5887, 5936, 5937, 5955, 5972, 5973, 5997, 6011, 6028, 6053, 6059, 6071, 6091, 6165, 6166, 6168, 6557, 6571, 6576, 6597, 6598, 6625, 6641, 6755, 6783, 7031, 7208, 7216, 7259, 7434, 7451, 7511, 7637, 7777, 7797, 7853, 7923, 7945, 8059, 8072, 8102, 8243, 8277, 8325, 8397, 8408, 8410, 8453, 8527, 8889, 9006, 9009, 9010, 9015, 9024, 9046, 9168, 9225, 9427, 9482, 9535, 9587, 9613, 9634, 9664, 9669, 9679, 9695, 9698, 9700, 9729, 9745, 9749, 9768, 9770, 9811, 9839, 9858, 9874, 9888, 9893, 9922, 9980, 9985] 305\n"
     ]
    }
   ],
   "source": [
    "compare_list = prediction_result == np.argmax(mnist.test.labels, 1)\n",
    "err_list = [i for i in range(len(compare_list)) if compare_list[i]==False]\n",
    "print(err_list, len(err_list))"
   ]
  },
  {
   "cell_type": "markdown",
   "metadata": {},
   "source": [
    "## 定义输出错误的函数"
   ]
  },
  {
   "cell_type": "code",
   "execution_count": 45,
   "metadata": {},
   "outputs": [],
   "source": [
    "def print_predict_err(labels, # 标签列表\n",
    "                      prediction): # 预测值列表\n",
    "    count = 0\n",
    "    compare_list = prediction_result == np.argmax(mnist.test.labels, 1)\n",
    "    err_list = [i for i in range(len(compare_list)) if compare_list[i]==False]\n",
    "    for x in err_list:\n",
    "        print('index: %03d' % (x),\n",
    "              '标签值:', np.argmax(labels[x]),\n",
    "              '预测值:', prediction[x])\n",
    "        count += 1\n",
    "    print('Total:', count)"
   ]
  },
  {
   "cell_type": "code",
   "execution_count": 46,
   "metadata": {},
   "outputs": [
    {
     "name": "stdout",
     "output_type": "stream",
     "text": [
      "index: 092 标签值: 9 预测值: 4\n",
      "index: 121 标签值: 4 预测值: 6\n",
      "index: 125 标签值: 9 预测值: 4\n",
      "index: 199 标签值: 2 预测值: 3\n",
      "index: 241 标签值: 9 预测值: 3\n",
      "index: 247 标签值: 4 预测值: 6\n",
      "index: 259 标签值: 6 预测值: 0\n",
      "index: 321 标签值: 2 预测值: 7\n",
      "index: 340 标签值: 5 预测值: 3\n",
      "index: 359 标签值: 9 预测值: 4\n",
      "index: 403 标签值: 8 预测值: 5\n",
      "index: 404 标签值: 2 预测值: 7\n",
      "index: 447 标签值: 4 预测值: 7\n",
      "index: 456 标签值: 2 预测值: 1\n",
      "index: 469 标签值: 5 预测值: 3\n",
      "index: 495 标签值: 8 预测值: 0\n",
      "index: 522 标签值: 7 预测值: 3\n",
      "index: 582 标签值: 8 预测值: 2\n",
      "index: 591 标签值: 8 预测值: 0\n",
      "index: 659 标签值: 2 预测值: 3\n",
      "index: 674 标签值: 5 预测值: 3\n",
      "index: 684 标签值: 7 预测值: 3\n",
      "index: 691 标签值: 8 预测值: 4\n",
      "index: 707 标签值: 4 预测值: 9\n",
      "index: 720 标签值: 5 预测值: 8\n",
      "index: 726 标签值: 7 预测值: 3\n",
      "index: 797 标签值: 5 预测值: 8\n",
      "index: 839 标签值: 8 预测值: 3\n",
      "index: 857 标签值: 5 预测值: 3\n",
      "index: 877 标签值: 8 预测值: 6\n",
      "index: 900 标签值: 1 预测值: 3\n",
      "index: 924 标签值: 2 预测值: 3\n",
      "index: 947 标签值: 8 预测值: 9\n",
      "index: 951 标签值: 5 预测值: 4\n",
      "index: 956 标签值: 1 预测值: 2\n",
      "index: 965 标签值: 6 预测值: 0\n",
      "index: 990 标签值: 2 预测值: 4\n",
      "index: 1002 标签值: 2 预测值: 3\n",
      "index: 1014 标签值: 6 预测值: 0\n",
      "index: 1032 标签值: 5 预测值: 6\n",
      "index: 1039 标签值: 7 预测值: 2\n",
      "index: 1082 标签值: 5 预测值: 3\n",
      "index: 1107 标签值: 9 预测值: 5\n",
      "index: 1112 标签值: 4 预测值: 6\n",
      "index: 1173 标签值: 7 预测值: 9\n",
      "index: 1178 标签值: 4 预测值: 0\n",
      "index: 1181 标签值: 6 预测值: 1\n",
      "index: 1192 标签值: 9 预测值: 4\n",
      "index: 1226 标签值: 7 预测值: 2\n",
      "index: 1228 标签值: 9 预测值: 3\n",
      "index: 1232 标签值: 9 预测值: 4\n",
      "index: 1242 标签值: 4 预测值: 9\n",
      "index: 1247 标签值: 9 预测值: 5\n",
      "index: 1256 标签值: 2 预测值: 7\n",
      "index: 1289 标签值: 5 预测值: 9\n",
      "index: 1319 标签值: 8 预测值: 0\n",
      "index: 1331 标签值: 5 预测值: 3\n",
      "index: 1349 标签值: 2 预测值: 3\n",
      "index: 1378 标签值: 5 预测值: 6\n",
      "index: 1393 标签值: 5 预测值: 3\n",
      "index: 1394 标签值: 8 预测值: 3\n",
      "index: 1395 标签值: 2 预测值: 3\n",
      "index: 1425 标签值: 8 预测值: 4\n",
      "index: 1494 标签值: 7 预测值: 0\n",
      "index: 1500 标签值: 7 预测值: 3\n",
      "index: 1522 标签值: 7 预测值: 9\n",
      "index: 1530 标签值: 8 预测值: 7\n",
      "index: 1549 标签值: 4 预测值: 6\n",
      "index: 1551 标签值: 2 预测值: 8\n",
      "index: 1553 标签值: 9 预测值: 3\n",
      "index: 1642 标签值: 2 预测值: 6\n",
      "index: 1669 标签值: 8 预测值: 3\n",
      "index: 1670 标签值: 5 预测值: 3\n",
      "index: 1678 标签值: 2 预测值: 0\n",
      "index: 1681 标签值: 3 预测值: 7\n",
      "index: 1687 标签值: 8 预测值: 1\n",
      "index: 1717 标签值: 8 预测值: 0\n",
      "index: 1730 标签值: 3 预测值: 9\n",
      "index: 1754 标签值: 7 预测值: 2\n",
      "index: 1828 标签值: 3 预测值: 7\n",
      "index: 1850 标签值: 8 预测值: 9\n",
      "index: 1871 标签值: 2 预测值: 3\n",
      "index: 1901 标签值: 9 预测值: 4\n",
      "index: 1941 标签值: 7 预测值: 2\n",
      "index: 1952 标签值: 9 预测值: 3\n",
      "index: 2004 标签值: 8 预测值: 9\n",
      "index: 2024 标签值: 7 预测值: 9\n",
      "index: 2035 标签值: 5 预测值: 3\n",
      "index: 2043 标签值: 4 预测值: 8\n",
      "index: 2044 标签值: 2 预测值: 7\n",
      "index: 2053 标签值: 4 预测值: 9\n",
      "index: 2058 标签值: 2 预测值: 3\n",
      "index: 2063 标签值: 7 预测值: 2\n",
      "index: 2070 标签值: 7 预测值: 1\n",
      "index: 2093 标签值: 8 预测值: 5\n",
      "index: 2107 标签值: 8 预测值: 0\n",
      "index: 2109 标签值: 3 预测值: 7\n",
      "index: 2129 标签值: 9 预测值: 3\n",
      "index: 2130 标签值: 4 预测值: 9\n",
      "index: 2135 标签值: 6 预测值: 1\n",
      "index: 2182 标签值: 1 预测值: 3\n",
      "index: 2189 标签值: 9 预测值: 1\n",
      "index: 2237 标签值: 5 预测值: 6\n",
      "index: 2272 标签值: 8 预测值: 6\n",
      "index: 2293 标签值: 9 预测值: 6\n",
      "index: 2325 标签值: 7 预测值: 2\n",
      "index: 2369 标签值: 5 预测值: 3\n",
      "index: 2387 标签值: 9 预测值: 1\n",
      "index: 2395 标签值: 8 预测值: 3\n",
      "index: 2406 标签值: 9 预测值: 1\n",
      "index: 2414 标签值: 9 预测值: 4\n",
      "index: 2426 标签值: 9 预测值: 4\n",
      "index: 2433 标签值: 2 预测值: 1\n",
      "index: 2462 标签值: 2 预测值: 0\n",
      "index: 2488 标签值: 2 预测值: 4\n",
      "index: 2526 标签值: 5 预测值: 3\n",
      "index: 2573 标签值: 5 预测值: 8\n",
      "index: 2577 标签值: 7 预测值: 1\n",
      "index: 2597 标签值: 5 预测值: 3\n",
      "index: 2631 标签值: 0 预测值: 6\n",
      "index: 2648 标签值: 9 预测值: 7\n",
      "index: 2654 标签值: 6 预测值: 1\n",
      "index: 2730 标签值: 7 预测值: 2\n",
      "index: 2742 标签值: 9 预测值: 3\n",
      "index: 2743 标签值: 5 预测值: 8\n",
      "index: 2758 标签值: 8 预测值: 0\n",
      "index: 2877 标签值: 4 预测值: 7\n",
      "index: 2896 标签值: 8 预测值: 0\n",
      "index: 2921 标签值: 3 预测值: 7\n",
      "index: 2927 标签值: 3 预测值: 2\n",
      "index: 2939 标签值: 9 预测值: 5\n",
      "index: 2953 标签值: 3 预测值: 5\n",
      "index: 2979 标签值: 9 预测值: 1\n",
      "index: 3005 标签值: 9 预测值: 8\n",
      "index: 3030 标签值: 6 预测值: 0\n",
      "index: 3073 标签值: 1 预测值: 2\n",
      "index: 3102 标签值: 5 预测值: 3\n",
      "index: 3115 标签值: 5 预测值: 4\n",
      "index: 3183 标签值: 5 预测值: 8\n",
      "index: 3225 标签值: 7 预测值: 9\n",
      "index: 3267 标签值: 2 预测值: 3\n",
      "index: 3280 标签值: 2 预测值: 1\n",
      "index: 3289 标签值: 8 预测值: 9\n",
      "index: 3339 标签值: 2 预测值: 3\n",
      "index: 3503 标签值: 9 预测值: 8\n",
      "index: 3520 标签值: 6 预测值: 4\n",
      "index: 3558 标签值: 5 预测值: 0\n",
      "index: 3559 标签值: 8 预测值: 5\n",
      "index: 3567 标签值: 8 预测值: 5\n",
      "index: 3574 标签值: 0 预测值: 5\n",
      "index: 3575 标签值: 7 预测值: 8\n",
      "index: 3604 标签值: 7 预测值: 0\n",
      "index: 3626 标签值: 8 预测值: 3\n",
      "index: 3629 标签值: 8 预测值: 3\n",
      "index: 3751 标签值: 7 预测值: 1\n",
      "index: 3757 标签值: 8 预测值: 3\n",
      "index: 3762 标签值: 6 预测值: 5\n",
      "index: 3776 标签值: 5 预测值: 8\n",
      "index: 3780 标签值: 4 预测值: 6\n",
      "index: 3853 标签值: 6 预测值: 5\n",
      "index: 3906 标签值: 1 预测值: 3\n",
      "index: 3926 标签值: 9 预测值: 3\n",
      "index: 3941 标签值: 4 预测值: 6\n",
      "index: 3967 标签值: 9 预测值: 4\n",
      "index: 3968 标签值: 5 预测值: 3\n",
      "index: 3976 标签值: 7 预测值: 1\n",
      "index: 3985 标签值: 9 预测值: 4\n",
      "index: 4007 标签值: 7 预测值: 2\n",
      "index: 4027 标签值: 7 预测值: 1\n",
      "index: 4075 标签值: 8 预测值: 4\n",
      "index: 4078 标签值: 9 预测值: 3\n",
      "index: 4131 标签值: 5 预测值: 3\n",
      "index: 4140 标签值: 8 预测值: 2\n",
      "index: 4146 标签值: 0 预测值: 6\n",
      "index: 4148 标签值: 7 预测值: 3\n",
      "index: 4149 标签值: 2 预测值: 3\n",
      "index: 4176 标签值: 2 预测值: 6\n",
      "index: 4194 标签值: 4 预测值: 9\n",
      "index: 4199 标签值: 7 预测值: 9\n",
      "index: 4238 标签值: 7 预测值: 3\n",
      "index: 4248 标签值: 2 预测值: 6\n",
      "index: 4265 标签值: 4 预测值: 9\n",
      "index: 4300 标签值: 5 预测值: 8\n",
      "index: 4317 标签值: 3 预测值: 9\n",
      "index: 4405 标签值: 9 预测值: 4\n",
      "index: 4433 标签值: 7 预测值: 3\n",
      "index: 4477 标签值: 0 预测值: 6\n",
      "index: 4498 标签值: 7 预测值: 3\n",
      "index: 4500 标签值: 9 预测值: 1\n",
      "index: 4536 标签值: 6 预测值: 5\n",
      "index: 4552 标签值: 3 预测值: 5\n",
      "index: 4601 标签值: 8 预测值: 4\n",
      "index: 4615 标签值: 2 预测值: 6\n",
      "index: 4671 标签值: 8 预测值: 3\n",
      "index: 4699 标签值: 6 预测值: 1\n",
      "index: 4740 标签值: 3 预测值: 5\n",
      "index: 4807 标签值: 8 预测值: 3\n",
      "index: 4823 标签值: 9 预测值: 4\n",
      "index: 4839 标签值: 8 预测值: 3\n",
      "index: 4861 标签值: 7 预测值: 3\n",
      "index: 4879 标签值: 8 预测值: 6\n",
      "index: 4886 标签值: 7 预测值: 3\n",
      "index: 4918 标签值: 9 预测值: 4\n",
      "index: 4943 标签值: 2 预测值: 3\n",
      "index: 4950 标签值: 2 预测值: 3\n",
      "index: 4978 标签值: 8 预测值: 3\n",
      "index: 5068 标签值: 4 预测值: 1\n",
      "index: 5078 标签值: 3 预测值: 5\n",
      "index: 5086 标签值: 2 预测值: 4\n",
      "index: 5140 标签值: 3 预测值: 5\n",
      "index: 5201 标签值: 4 预测值: 9\n",
      "index: 5331 标签值: 1 预测值: 6\n",
      "index: 5457 标签值: 1 预测值: 8\n",
      "index: 5586 标签值: 8 预测值: 2\n",
      "index: 5623 标签值: 3 预测值: 5\n",
      "index: 5655 标签值: 7 预测值: 8\n",
      "index: 5676 标签值: 4 预测值: 3\n",
      "index: 5734 标签值: 3 预测值: 2\n",
      "index: 5745 标签值: 7 预测值: 1\n",
      "index: 5749 标签值: 8 预测值: 5\n",
      "index: 5874 标签值: 5 预测值: 3\n",
      "index: 5887 标签值: 7 预测值: 0\n",
      "index: 5936 标签值: 4 预测值: 9\n",
      "index: 5937 标签值: 5 预测值: 3\n",
      "index: 5955 标签值: 3 预测值: 9\n",
      "index: 5972 标签值: 5 预测值: 3\n",
      "index: 5973 标签值: 3 预测值: 9\n",
      "index: 5997 标签值: 5 预测值: 3\n",
      "index: 6011 标签值: 3 预测值: 5\n",
      "index: 6028 标签值: 5 预测值: 3\n",
      "index: 6053 标签值: 5 预测值: 9\n",
      "index: 6059 标签值: 3 预测值: 9\n",
      "index: 6071 标签值: 9 预测值: 3\n",
      "index: 6091 标签值: 9 预测值: 3\n",
      "index: 6165 标签值: 5 预测值: 3\n",
      "index: 6166 标签值: 9 预测值: 3\n",
      "index: 6168 标签值: 9 预测值: 3\n",
      "index: 6557 标签值: 0 预测值: 2\n",
      "index: 6571 标签值: 9 预测值: 3\n",
      "index: 6576 标签值: 7 预测值: 1\n",
      "index: 6597 标签值: 0 预测值: 7\n",
      "index: 6598 标签值: 5 预测值: 3\n",
      "index: 6625 标签值: 8 预测值: 4\n",
      "index: 6641 标签值: 8 预测值: 5\n",
      "index: 6755 标签值: 8 预测值: 3\n",
      "index: 6783 标签值: 1 预测值: 8\n",
      "index: 7031 标签值: 0 预测值: 2\n",
      "index: 7208 标签值: 8 预测值: 3\n",
      "index: 7216 标签值: 0 预测值: 6\n",
      "index: 7259 标签值: 8 预测值: 3\n",
      "index: 7434 标签值: 4 预测值: 8\n",
      "index: 7451 标签值: 5 预测值: 6\n",
      "index: 7511 标签值: 5 预测值: 3\n",
      "index: 7637 标签值: 2 预测值: 3\n",
      "index: 7777 标签值: 5 预测值: 3\n",
      "index: 7797 标签值: 5 预测值: 6\n",
      "index: 7853 标签值: 8 预测值: 3\n",
      "index: 7923 标签值: 8 预测值: 3\n",
      "index: 7945 标签值: 2 预测值: 6\n",
      "index: 8059 标签值: 2 预测值: 1\n",
      "index: 8072 标签值: 5 预测值: 3\n",
      "index: 8102 标签值: 2 预测值: 3\n",
      "index: 8243 标签值: 0 预测值: 6\n",
      "index: 8277 标签值: 3 预测值: 9\n",
      "index: 8325 标签值: 0 预测值: 6\n",
      "index: 8397 标签值: 3 预测值: 5\n",
      "index: 8408 标签值: 8 预测值: 6\n",
      "index: 8410 标签值: 8 预测值: 6\n",
      "index: 8453 标签值: 5 预测值: 3\n",
      "index: 8527 标签值: 4 预测值: 8\n",
      "index: 8889 标签值: 2 预测值: 3\n",
      "index: 9006 标签值: 2 预测值: 3\n",
      "index: 9009 标签值: 7 预测值: 2\n",
      "index: 9010 标签值: 2 预测值: 3\n",
      "index: 9015 标签值: 7 预测值: 2\n",
      "index: 9024 标签值: 7 预测值: 3\n",
      "index: 9046 标签值: 2 预测值: 3\n",
      "index: 9168 标签值: 2 预测值: 3\n",
      "index: 9225 标签值: 2 预测值: 3\n",
      "index: 9427 标签值: 5 预测值: 3\n",
      "index: 9482 标签值: 5 预测值: 3\n",
      "index: 9535 标签值: 2 预测值: 3\n",
      "index: 9587 标签值: 9 预测值: 4\n",
      "index: 9613 标签值: 2 预测值: 3\n",
      "index: 9634 标签值: 0 预测值: 3\n",
      "index: 9664 标签值: 2 预测值: 7\n",
      "index: 9669 标签值: 4 预测值: 7\n",
      "index: 9679 标签值: 6 预测值: 3\n",
      "index: 9695 标签值: 8 预测值: 3\n",
      "index: 9698 标签值: 6 预测值: 5\n",
      "index: 9700 标签值: 2 预测值: 8\n",
      "index: 9729 标签值: 5 预测值: 6\n",
      "index: 9745 标签值: 4 预测值: 0\n",
      "index: 9749 标签值: 5 预测值: 6\n",
      "index: 9768 标签值: 2 预测值: 8\n",
      "index: 9770 标签值: 5 预测值: 6\n",
      "index: 9811 标签值: 2 预测值: 8\n",
      "index: 9839 标签值: 2 预测值: 7\n",
      "index: 9858 标签值: 6 预测值: 8\n",
      "index: 9874 标签值: 2 预测值: 3\n",
      "index: 9888 标签值: 6 预测值: 0\n",
      "index: 9893 标签值: 2 预测值: 3\n",
      "index: 9922 标签值: 4 预测值: 9\n",
      "index: 9980 标签值: 2 预测值: 3\n",
      "index: 9985 标签值: 2 预测值: 3\n",
      "Total: 305\n"
     ]
    }
   ],
   "source": [
    "print_predict_err(labels=mnist.test.labels, \n",
    "                  prediction=prediction_result)"
   ]
  }
 ],
 "metadata": {
  "kernelspec": {
   "display_name": "Python 3",
   "language": "python",
   "name": "python3"
  },
  "language_info": {
   "codemirror_mode": {
    "name": "ipython",
    "version": 3
   },
   "file_extension": ".py",
   "mimetype": "text/x-python",
   "name": "python",
   "nbconvert_exporter": "python",
   "pygments_lexer": "ipython3",
   "version": "3.7.6"
  }
 },
 "nbformat": 4,
 "nbformat_minor": 4
}
