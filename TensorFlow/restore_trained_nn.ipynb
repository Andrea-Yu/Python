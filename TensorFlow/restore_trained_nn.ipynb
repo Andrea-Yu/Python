{
 "cells": [
  {
   "cell_type": "markdown",
   "metadata": {},
   "source": [
    "# 定义相同结构的模型"
   ]
  },
  {
   "cell_type": "code",
   "execution_count": 6,
   "metadata": {},
   "outputs": [
    {
     "name": "stdout",
     "output_type": "stream",
     "text": [
      "Extracting MNIST_data/train-images-idx3-ubyte.gz\n",
      "Extracting MNIST_data/train-labels-idx1-ubyte.gz\n",
      "Extracting MNIST_data/t10k-images-idx3-ubyte.gz\n",
      "Extracting MNIST_data/t10k-labels-idx1-ubyte.gz\n",
      "INFO:tensorflow:Restoring parameters from ./ckpt_dir/mnist_265_64_m.ckpt\n",
      "Restore model from ./ckpt_dir/mnist_265_64_m.ckpt\n"
     ]
    }
   ],
   "source": [
    "import tensorflow as tf\n",
    "import matplotlib.pyplot as plt\n",
    "import numpy as np\n",
    "from tensorflow.examples.tutorials.mnist import input_data\n",
    "\n",
    "mnist = input_data.read_data_sets('MNIST_data/', one_hot=True)\n",
    "\n",
    "tf.reset_default_graph()\n",
    "\n",
    "# 构建模型\n",
    "# 此为两层NN示例\n",
    "H1_NN = 256\n",
    "H2_NN = 64\n",
    "\n",
    "# 定义全连接层函数\n",
    "def fcn_layer(inputs,           # 数入数据\n",
    "              input_dim,        # 输入神经元数量\n",
    "              output_dim,       # 输出神经元数量\n",
    "              activation=None): # 激活函数\n",
    "    \n",
    "    # 以截断正态分布的随机函数初始化\n",
    "    W = tf.Variable(tf.truncated_normal([input_dim, output_dim], stddev=0.1))\n",
    "    # 以0初始化b\n",
    "    b = tf.Variable(tf.zeros([output_dim]))\n",
    "    \n",
    "    # 建立权重计算\n",
    "    XWb = tf.matmul(inputs, W) + b\n",
    "    \n",
    "    # 激活函数\n",
    "    if activation is None:\n",
    "        outputs = XWb\n",
    "    else:\n",
    "        outputs = activation(XWb)\n",
    "        \n",
    "    return outputs\n",
    "\n",
    "# 建构双隐层模型\n",
    "# 输入层\n",
    "x = tf.placeholder(tf.float32, [None, 784], name='X')\n",
    "y = tf.placeholder(tf.float32, [None, 10], name='Y')\n",
    "# 隐藏层1\n",
    "h1 = fcn_layer(x, 784, H1_NN, tf.nn.relu)\n",
    "# 隐藏层2\n",
    "h2 = fcn_layer(h1, H1_NN, H2_NN, tf.nn.relu)\n",
    "# 输出层\n",
    "forward = fcn_layer(h2, H2_NN, 10, None)\n",
    "pred = tf.nn.softmax(forward)\n",
    "\n",
    "# 定义准确率\n",
    "correct_pred = tf.equal(tf.argmax(y, 1), tf.argmax(pred, 1))\n",
    "accuracy = tf.reduce_mean(tf.cast(correct_pred, tf.float32))\n",
    "\n",
    "# 读取还原模型\n",
    "# 设置模型文件存放目录\n",
    "ckpt_dir = './ckpt_dir/'\n",
    "\n",
    "# 读取模型\n",
    "# 创建Session\n",
    "saver = tf.train.Saver()\n",
    "sess = tf.Session()\n",
    "init = tf.global_variables_initializer()\n",
    "sess.run(init)\n",
    "\n",
    "ckpt = tf.train.get_checkpoint_state(ckpt_dir)\n",
    "\n",
    "if ckpt and ckpt.model_checkpoint_path:\n",
    "    # 从已保存的模型中读取参数\n",
    "    saver.restore(sess, ckpt.model_checkpoint_path)\n",
    "    print('Restore model from '+ckpt.model_checkpoint_path)"
   ]
  },
  {
   "cell_type": "code",
   "execution_count": 8,
   "metadata": {},
   "outputs": [
    {
     "name": "stdout",
     "output_type": "stream",
     "text": [
      "0.9676\n"
     ]
    }
   ],
   "source": [
    "test_acc = sess.run(accuracy, feed_dict={x: mnist.test.images, y: mnist.test.labels})\n",
    "print(test_acc)"
   ]
  },
  {
   "cell_type": "code",
   "execution_count": 9,
   "metadata": {},
   "outputs": [],
   "source": [
    "sess.close()"
   ]
  }
 ],
 "metadata": {
  "kernelspec": {
   "display_name": "Python 3",
   "language": "python",
   "name": "python3"
  },
  "language_info": {
   "codemirror_mode": {
    "name": "ipython",
    "version": 3
   },
   "file_extension": ".py",
   "mimetype": "text/x-python",
   "name": "python",
   "nbconvert_exporter": "python",
   "pygments_lexer": "ipython3",
   "version": "3.7.6"
  }
 },
 "nbformat": 4,
 "nbformat_minor": 4
}
